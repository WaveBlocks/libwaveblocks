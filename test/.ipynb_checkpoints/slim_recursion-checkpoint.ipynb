{
 "cells": [
  {
   "cell_type": "code",
   "execution_count": 2,
   "metadata": {
    "collapsed": true
   },
   "outputs": [],
   "source": [
    "import numpy\n",
    "\n",
    "# generate cartesian product of multiple array\n",
    "# input: tuple of arrays\n",
    "def cartesian_product(arrays):\n",
    "    broadcastable = numpy.ix_(*arrays)\n",
    "    broadcasted = numpy.broadcast_arrays(*broadcastable)\n",
    "    rows, cols = reduce(numpy.multiply, broadcasted[0].shape), len(broadcasted)\n",
    "    out = numpy.empty(rows * cols, dtype=broadcasted[0].dtype)\n",
    "    start, end = 0, rows\n",
    "    for a in broadcasted:\n",
    "        out[start:end] = a.reshape(-1)\n",
    "        start, end = end, end + rows\n",
    "    return out.reshape(cols, rows).T"
   ]
  },
  {
   "cell_type": "code",
   "execution_count": 19,
   "metadata": {
    "collapsed": false
   },
   "outputs": [
    {
     "name": "stdout",
     "output_type": "stream",
     "text": [
      "[(0, 0), (0, 1), (0, 2), (0, 3), (1, 0), (1, 1), (1, 2), (1, 3), (2, 0), (2, 1), (2, 2), (2, 3), (3, 0), (3, 1), (3, 2), (3, 3)]\n",
      "[array([[ 1.00000000+1.j        ],\n",
      "       [ 1.00000000+0.60653066j],\n",
      "       [ 1.00000000+0.36787944j],\n",
      "       [ 1.00000000+0.22313016j],\n",
      "       [ 0.60653066+1.j        ],\n",
      "       [ 0.60653066+0.60653066j],\n",
      "       [ 0.60653066+0.36787944j],\n",
      "       [ 0.60653066+0.22313016j],\n",
      "       [ 0.36787944+1.j        ],\n",
      "       [ 0.36787944+0.60653066j],\n",
      "       [ 0.36787944+0.36787944j],\n",
      "       [ 0.36787944+0.22313016j],\n",
      "       [ 0.22313016+1.j        ],\n",
      "       [ 0.22313016+0.60653066j],\n",
      "       [ 0.22313016+0.36787944j],\n",
      "       [ 0.22313016+0.22313016j]])]\n",
      "[array([[ 0.+0.j],\n",
      "       [ 0.+0.j]]), array([[ 2.+0.j],\n",
      "       [ 0.+0.j]]), array([[ 1.+0.j,  0.+0.j],\n",
      "       [ 0.+0.j,  1.+0.j]]), array([[ 0.+1.j,  0.+0.j],\n",
      "       [ 0.+0.j,  0.+1.j]]), array([[ 0.+0.j]])]\n",
      "Selected Evaluation:  [[-0.12347871+0.37647618j]]\n"
     ]
    }
   ],
   "source": [
    "import numpy\n",
    "import math\n",
    "from WaveBlocksND import *\n",
    "\n",
    "shape = HyperCubicShape((4,4))\n",
    "print list(shape.get_node_iterator())\n",
    "\n",
    "packet = HagedornWavepacket(2,1,0.9)\n",
    "packet._eps = 0.9\n",
    "packet.set_parameters(([numpy.array([[2],[0]])]),key=(\"p\"))\n",
    "packet.set_basis_shapes((shape),0)\n",
    "for node in shape.get_node_iterator():\n",
    "    packet.set_coefficient(0, node, math.exp(-0.5*node[0]) + math.exp(-0.5*node[1])*1j)\n",
    "print packet.get_coefficients()\n",
    "print packet.get_parameters()\n",
    "\n",
    "x = numpy.linspace(-5.0,5.0,21)\n",
    "y = numpy.linspace(-5.0,5.0,21)\n",
    "grid = cartesian_product((x,y)).T\n",
    "\n",
    "#DEBUG\n",
    "print \"Selected Evaluation: \", packet.slim_recursion(numpy.array([[0.5],[-0.3]]),0)\n",
    "\n",
    "values = packet.slim_recursion(grid,0)[0]\n",
    "\n",
    "csv = zip(grid[0,:], grid[1,:], numpy.real(values), numpy.imag(values))\n",
    "numpy.savetxt(\"slim_recursion_py.csv\", csv, fmt=[\"%f\",\"%f\",\"%f\",\"%f\"])\n",
    "\n"
   ]
  },
  {
   "cell_type": "code",
   "execution_count": null,
   "metadata": {
    "collapsed": true
   },
   "outputs": [],
   "source": []
  }
 ],
 "metadata": {
  "kernelspec": {
   "display_name": "Python 2",
   "language": "python",
   "name": "python2"
  },
  "language_info": {
   "codemirror_mode": {
    "name": "ipython",
    "version": 2
   },
   "file_extension": ".py",
   "mimetype": "text/x-python",
   "name": "python",
   "nbconvert_exporter": "python",
   "pygments_lexer": "ipython2",
   "version": "2.7.9"
  }
 },
 "nbformat": 4,
 "nbformat_minor": 0
}
