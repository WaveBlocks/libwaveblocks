{
 "cells": [
  {
   "cell_type": "code",
   "execution_count": 1,
   "metadata": {
    "collapsed": true
   },
   "outputs": [],
   "source": [
    "import numpy\n",
    "\n",
    "# generate cartesian product of multiple array\n",
    "# input: tuple of arrays\n",
    "def cartesian_product(arrays):\n",
    "    broadcastable = numpy.ix_(*arrays)\n",
    "    broadcasted = numpy.broadcast_arrays(*broadcastable)\n",
    "    rows, cols = reduce(numpy.multiply, broadcasted[0].shape), len(broadcasted)\n",
    "    out = numpy.empty(rows * cols, dtype=broadcasted[0].dtype)\n",
    "    start, end = 0, rows\n",
    "    for a in broadcasted:\n",
    "        out[start:end] = a.reshape(-1)\n",
    "        start, end = end, end + rows\n",
    "    return out.reshape(cols, rows).T"
   ]
  },
  {
   "cell_type": "code",
   "execution_count": 2,
   "metadata": {
    "collapsed": false
   },
   "outputs": [
    {
     "name": "stdout",
     "output_type": "stream",
     "text": [
      "[(0, 0), (0, 1), (0, 2), (0, 3), (1, 0), (1, 1), (1, 2), (1, 3), (2, 0), (2, 1), (2, 2), (2, 3), (3, 0), (3, 1), (3, 2), (3, 3)]\n",
      "[array([[ 1.00000000+1.j        ],\n",
      "       [ 1.00000000+0.60653066j],\n",
      "       [ 1.00000000+0.36787944j],\n",
      "       [ 1.00000000+0.22313016j],\n",
      "       [ 0.60653066+1.j        ],\n",
      "       [ 0.60653066+0.60653066j],\n",
      "       [ 0.60653066+0.36787944j],\n",
      "       [ 0.60653066+0.22313016j],\n",
      "       [ 0.36787944+1.j        ],\n",
      "       [ 0.36787944+0.60653066j],\n",
      "       [ 0.36787944+0.36787944j],\n",
      "       [ 0.36787944+0.22313016j],\n",
      "       [ 0.22313016+1.j        ],\n",
      "       [ 0.22313016+0.60653066j],\n",
      "       [ 0.22313016+0.36787944j],\n",
      "       [ 0.22313016+0.22313016j]])]\n",
      "[array([[ 0.+0.j],\n",
      "       [ 0.+0.j]]), array([[ 2.+0.j],\n",
      "       [ 0.+0.j]]), array([[ 1.+0.j,  0.+0.j],\n",
      "       [ 0.+0.j,  1.+0.j]]), array([[ 0.+1.j,  0.+0.j],\n",
      "       [ 0.+0.j,  0.+1.j]]), array([[ 0.+0.j]])]\n",
      "[[ 0.16766982+0.47974335j]] [[-0.31207353+0.64741317j]]\n",
      "(1, 0) [ 0.13173385+0.37692197j] (0.606530659713+1j)\n",
      " >>  [-0.29702135+0.36034858j]\n",
      "(0, 1) [-0.07904031-0.22615318j] (1+0.606530659713j)\n",
      " >>  [ 0.05812853-0.27409355j]\n",
      "(2, 0) [-0.04537499-0.12982868j] (0.367879441171+1j)\n",
      " >>  [ 0.11313615-0.0931363j]\n",
      "(1, 1) [-0.06209993-0.17768272j] (0.606530659713+0.606530659713j)\n",
      " >>  [ 0.0701045-0.14543553j]\n",
      "(0, 2) [-0.0922137-0.26384538j] (1+0.367879441171j)\n",
      " >>  [ 0.00484959-0.2977689j]\n",
      "(3, 0) [-0.12814275-0.36664698j] (0.223130160148+1j)\n",
      " >>  [ 0.33805447-0.20995276j]\n",
      "(2, 1) [ 0.02138998+0.06120183j] (0.367879441171+0.606530659713j)\n",
      " >>  [-0.02925185+0.03548857j]\n",
      "(1, 2) [-0.07244992-0.20729651j] (0.606530659713+0.367879441171j)\n",
      " >>  [ 0.03231702-0.15238452j]\n",
      "(0, 3) [ 0.08963353+0.25646292j] (1+0.223130160148j)\n",
      " >>  [ 0.03240892+0.27646286j]\n",
      "(3, 1) [ 0.06040707+0.17283905j] (0.223130160148+0.606530659713j)\n",
      " >>  [-0.09135354+0.07520435j]\n",
      "(2, 2) [ 0.02495497+0.07140213j] (0.367879441171+0.367879441171j)\n",
      " >>  [-0.01708695+0.0354478j]\n",
      "(1, 3) [ 0.07042275+0.2014963j] (0.606530659713+0.223130160148j)\n",
      " >>  [-0.00224634+0.13792712j]\n",
      "(3, 2) [ 0.07047492+0.20164555j] (0.223130160148+0.367879441171j)\n",
      " >>  [-0.05845617+0.07091948j]\n",
      "(2, 3) [-0.02425673-0.06940428j] (0.367879441171+0.223130160148j)\n",
      " >>  [ 0.00656264-0.03094482j]\n",
      "(3, 3) [-0.06850301-0.19600346j] (0.223130160148+0.223130160148j)\n",
      " >>  [ 0.02844919-0.05901937j]\n"
     ]
    },
    {
     "data": {
      "text/plain": [
       "array([[-0.12347871+0.37647618j]])"
      ]
     },
     "execution_count": 2,
     "metadata": {},
     "output_type": "execute_result"
    }
   ],
   "source": [
    "import numpy\n",
    "import math\n",
    "from WaveBlocksND import *\n",
    "\n",
    "shape = HyperCubicShape((4,4))\n",
    "print list(shape.get_node_iterator())\n",
    "\n",
    "packet = HagedornWavepacket(2,1,0.9)\n",
    "packet._eps = 0.9\n",
    "packet.set_parameters(([numpy.array([[2],[0]])]),key=(\"p\"))\n",
    "packet.set_basis_shapes((shape),0)\n",
    "for node in shape.get_node_iterator():\n",
    "    packet.set_coefficient(0, node, math.exp(-0.5*node[0]) + math.exp(-0.5*node[1])*1j)\n",
    "print packet.get_coefficients()\n",
    "print packet.get_parameters()\n",
    "\n",
    "x = numpy.linspace(-5.0,5.0,21)\n",
    "y = numpy.linspace(-5.0,5.0,21)\n",
    "grid = cartesian_product((x,y))\n",
    "\n",
    "#DEBUG\n",
    "#packet.slim_recursion(numpy.array([[0.5],[-0.3]]),0)\n",
    "\n",
    "values = packet.slim_recursion(grid,0)[0]\n",
    "csv = zip(grid[:,0], grid[:,1], numpy.real(values))\n",
    "numpy.savetxt(\"slim_recursion.csv\", csv, fmt=[\"%f\",\"%f\",\"%f\"])\n",
    "\n"
   ]
  },
  {
   "cell_type": "code",
   "execution_count": null,
   "metadata": {
    "collapsed": true
   },
   "outputs": [],
   "source": []
  }
 ],
 "metadata": {
  "kernelspec": {
   "display_name": "Python 2",
   "language": "python",
   "name": "python2"
  },
  "language_info": {
   "codemirror_mode": {
    "name": "ipython",
    "version": 2
   },
   "file_extension": ".py",
   "mimetype": "text/x-python",
   "name": "python",
   "nbconvert_exporter": "python",
   "pygments_lexer": "ipython2",
   "version": "2.7.9"
  }
 },
 "nbformat": 4,
 "nbformat_minor": 0
}
