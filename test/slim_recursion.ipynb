{
 "cells": [
  {
   "cell_type": "code",
   "execution_count": 6,
   "metadata": {
    "collapsed": true
   },
   "outputs": [],
   "source": [
    "import numpy\n",
    "\n",
    "# generate cartesian product of multiple array\n",
    "# input: tuple of arrays\n",
    "def cartesian_product(arrays):\n",
    "    broadcastable = numpy.ix_(*arrays)\n",
    "    broadcasted = numpy.broadcast_arrays(*broadcastable)\n",
    "    rows, cols = reduce(numpy.multiply, broadcasted[0].shape), len(broadcasted)\n",
    "    out = numpy.empty(rows * cols, dtype=broadcasted[0].dtype)\n",
    "    start, end = 0, rows\n",
    "    for a in broadcasted:\n",
    "        out[start:end] = a.reshape(-1)\n",
    "        start, end = end, end + rows\n",
    "    return out.reshape(cols, rows).T"
   ]
  },
  {
   "cell_type": "code",
   "execution_count": 7,
   "metadata": {
    "collapsed": true
   },
   "outputs": [],
   "source": [
    "def createSampleWavepacket(D, shape):\n",
    "    packet = HagedornWavepacket(D,1,0.9)\n",
    "    \n",
    "    # create sample parameters\n",
    "    p = numpy.zeros((D))\n",
    "    q = numpy.zeros((D))\n",
    "    Q = numpy.eye(D, dtype=complex)\n",
    "    P = 1j*numpy.eye(D, dtype=complex)\n",
    "    for i in range(0,D):\n",
    "        q[i] = math.cos(i+1)\n",
    "        p[i] = math.sin(i+1)\n",
    "        for j in range(0,D):\n",
    "            Q[i,j] += 0.3*math.sin(i+j+1) + 0.3j*math.cos(i+j+1)\n",
    "            P[i,j] += 0.3*math.cos(i+j+1) + 0.3j*math.sin(i+j+1)\n",
    "    packet.set_parameters( (q,p,Q,P), key=(\"q\",\"p\",\"Q\",\"P\"))\n",
    "    \n",
    "    # set shape\n",
    "    packet.set_basis_shapes((shape),0)\n",
    "    \n",
    "    # create sample coefficients\n",
    "    for node in shape.get_node_iterator():\n",
    "        falloff = 0.1\n",
    "\n",
    "        x = 0.0\n",
    "        y = 0.0\n",
    "        s = 0\n",
    "        for d in range(0,D):\n",
    "            x += math.sin(node[d] + 1.0*(d+1)/D)\n",
    "            y += math.cos(node[d] + 1.5*(d+1)/D)\n",
    "            s += node[d]\n",
    "\n",
    "        x *= math.exp(-falloff*s)\n",
    "        y *= math.exp(-falloff*s)\n",
    "\n",
    "        packet.set_coefficient(0, node, x + y*1j)\n",
    "    \n",
    "    return packet"
   ]
  },
  {
   "cell_type": "code",
   "execution_count": 8,
   "metadata": {
    "collapsed": false
   },
   "outputs": [
    {
     "name": "stdout",
     "output_type": "stream",
     "text": [
      "Selected Evaluation:  [[-157.01932362-307.03955789j]]\n",
      "file written\n"
     ]
    }
   ],
   "source": [
    "import numpy\n",
    "import numpy.random as rand\n",
    "import math\n",
    "from WaveBlocksND import *\n",
    "\n",
    "D = 3\n",
    "\n",
    "shape = HyperCubicShape((15,15,15))\n",
    "\n",
    "packet = createSampleWavepacket(D, shape)\n",
    "\n",
    "x0 = numpy.zeros((D,1))\n",
    "for d in range(0,D):\n",
    "    x0[d,0] = (d+1)/float(2*D)\n",
    "print \"Selected Evaluation: \", packet.slim_recursion(x0,0)\n",
    "\n",
    "rand.seed(0)\n",
    "points = rand.randn(D,20)\n",
    "\n",
    "results = packet.slim_recursion(points,0)[0]\n",
    "\n",
    "import csv\n",
    "with open(\"wavepacket.csv\", \"w\") as filehandle:\n",
    "    csvfile = csv.writer(filehandle, delimiter=' ')\n",
    "    for point,result in zip(points.T,results):\n",
    "        csvfile.writerow(tuple(point) + (numpy.real(result),) + (numpy.imag(result),))\n",
    "print \"file written\"\n",
    "\n",
    "    #x = numpy.linspace(-5.0,5.0,21)\n",
    "    #y = numpy.linspace(-5.0,5.0,21)\n",
    "    #grid = cartesian_product((x,y)).T\n",
    "\n",
    "    #values = packet.slim_recursion(grid,0)[0]\n",
    "\n",
    "    #csv = zip(grid[0,:], grid[1,:], numpy.real(values), numpy.imag(values))\n",
    "    #numpy.savetxt(\"wavepacket.csv\", csv, fmt=[\"%f\",\"%f\",\"%f\",\"%f\"])\n",
    "\n"
   ]
  },
  {
   "cell_type": "code",
   "execution_count": null,
   "metadata": {
    "collapsed": true
   },
   "outputs": [],
   "source": []
  }
 ],
 "metadata": {
  "kernelspec": {
   "display_name": "Python 2",
   "language": "python",
   "name": "python2"
  },
  "language_info": {
   "codemirror_mode": {
    "name": "ipython",
    "version": 2
   },
   "file_extension": ".py",
   "mimetype": "text/x-python",
   "name": "python",
   "nbconvert_exporter": "python",
   "pygments_lexer": "ipython2",
   "version": "2.7.9"
  }
 },
 "nbformat": 4,
 "nbformat_minor": 0
}
