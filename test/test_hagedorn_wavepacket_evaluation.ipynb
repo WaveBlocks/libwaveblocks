{
 "cells": [
  {
   "cell_type": "code",
   "execution_count": 1,
   "metadata": {
    "collapsed": true
   },
   "outputs": [],
   "source": [
    "import numpy\n",
    "\n",
    "# generate cartesian product of multiple array\n",
    "# input: tuple of arrays\n",
    "def cartesian_product(arrays):\n",
    "    broadcastable = numpy.ix_(*arrays)\n",
    "    broadcasted = numpy.broadcast_arrays(*broadcastable)\n",
    "    rows, cols = reduce(numpy.multiply, broadcasted[0].shape), len(broadcasted)\n",
    "    out = numpy.empty(rows * cols, dtype=broadcasted[0].dtype)\n",
    "    start, end = 0, rows\n",
    "    for a in broadcasted:\n",
    "        out[start:end] = a.reshape(-1)\n",
    "        start, end = end, end + rows\n",
    "    return out.reshape(cols, rows).T"
   ]
  },
  {
   "cell_type": "code",
   "execution_count": 2,
   "metadata": {
    "collapsed": false
   },
   "outputs": [
    {
     "name": "stdout",
     "output_type": "stream",
     "text": [
      "\n",
      "--- Create sample wavepacket ---\n",
      "Selected Evaluation:  [[-0.13595772+0.22197704j]]\n",
      "\n",
      "--- Evaluate wavepacket at some random locations ---\n",
      "\n",
      "--- Done ---\n"
     ]
    }
   ],
   "source": [
    "import numpy\n",
    "import numpy.random as rand\n",
    "import math\n",
    "\n",
    "from WaveBlocksND import *\n",
    "from sample_wavepacket import *\n",
    "\n",
    "print\n",
    "print \"--- Create sample wavepacket ---\"\n",
    "\n",
    "D = 3\n",
    "shape = HyperCubicShape((5,5,5))\n",
    "packet = createSampleWavepacket(D, shape)\n",
    "\n",
    "x0 = numpy.zeros((D,1))\n",
    "for d in range(0,D):\n",
    "    x0[d,0] = (d+1)/float(2*D)\n",
    "print \"Chosen Evaluation: \", packet.slim_recursion(x0,0)\n",
    "\n",
    "print\n",
    "print \"--- Evaluate wavepacket at some random locations ---\"\n",
    "rand.seed(0)\n",
    "points = rand.randn(D,20)\n",
    "\n",
    "results = packet.slim_recursion(points,0)[0]\n",
    "\n",
    "import csv\n",
    "with open(\"wavepacket_evaluation.csv\", \"w\") as filehandle:\n",
    "    csvfile = csv.writer(filehandle, delimiter=' ')\n",
    "    for point,result in zip(points.T,results):\n",
    "        csvfile.writerow(tuple(point) + (numpy.real(result),) + (numpy.imag(result),))\n",
    "\n",
    "print\n",
    "print \"--- Done ---\"\n"
   ]
  },
  {
   "cell_type": "code",
   "execution_count": null,
   "metadata": {
    "collapsed": true
   },
   "outputs": [],
   "source": []
  }
 ],
 "metadata": {
  "kernelspec": {
   "display_name": "Python 2",
   "language": "python",
   "name": "python2"
  },
  "language_info": {
   "codemirror_mode": {
    "name": "ipython",
    "version": 2
   },
   "file_extension": ".py",
   "mimetype": "text/x-python",
   "name": "python",
   "nbconvert_exporter": "python",
   "pygments_lexer": "ipython2",
   "version": "2.7.9"
  }
 },
 "nbformat": 4,
 "nbformat_minor": 0
}
