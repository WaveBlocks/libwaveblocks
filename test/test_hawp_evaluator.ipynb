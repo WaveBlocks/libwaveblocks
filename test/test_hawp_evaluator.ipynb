{
 "cells": [
  {
   "cell_type": "code",
   "execution_count": 1,
   "metadata": {
    "collapsed": true
   },
   "outputs": [],
   "source": [
    "import numpy\n",
    "\n",
    "# generate cartesian product of multiple array\n",
    "# input: tuple of arrays\n",
    "def cartesian_product(arrays):\n",
    "    broadcastable = numpy.ix_(*arrays)\n",
    "    broadcasted = numpy.broadcast_arrays(*broadcastable)\n",
    "    rows, cols = reduce(numpy.multiply, broadcasted[0].shape), len(broadcasted)\n",
    "    out = numpy.empty(rows * cols, dtype=broadcasted[0].dtype)\n",
    "    start, end = 0, rows\n",
    "    for a in broadcasted:\n",
    "        out[start:end] = a.reshape(-1)\n",
    "        start, end = end, end + rows\n",
    "    return out.reshape(cols, rows).T"
   ]
  },
  {
   "cell_type": "code",
   "execution_count": 2,
   "metadata": {
    "collapsed": false
   },
   "outputs": [
    {
     "name": "stdout",
     "output_type": "stream",
     "text": [
      "\n",
      "--- Create sample wavepacket ---\n",
      "\n",
      "--- Evaluate wavepacket at test location ---\n",
      "('psi: ', array([[-0.12870212+0.11237119j]]))\n",
      "('psi (with prefactor): ', array([[-0.13089496+0.10870531j]]))\n",
      "((0, 0, 0), array([ 0.18100493+0.1360191j]), array([ 0.03097689+0.02580412j]))\n",
      "((0, 0, 1), array([ 0.49808765+0.46265537j]), array([ 0.02909289+0.00967338j]))\n",
      "((0, 0, 2), array([ 0.83953782+1.03779092j]), array([ 0.0154223+0.00683246j]))\n",
      "((0, 0, 3), array([ 0.89834962+1.73174241j]), array([ 0.00242399+0.01550085j]))\n",
      "((0, 0, 4), array([ 0.38607828+2.18867146j]), array([-0.00015523+0.02470947j]))\n",
      "((0, 1, 0), array([ 0.11986951+0.39978984j]), array([ 0.03394277+0.00834695j]))\n",
      "((0, 1, 1), array([ 0.34777223+1.14192608j]), array([ 0.03167528-0.00482116j]))\n",
      "((0, 1, 2), array([ 0.63415327+2.13140739j]), array([ 0.01879642-0.00609999j]))\n",
      "((0, 2, 0), array([-0.21991398+0.36940539j]), array([ 0.02307543-0.00059142j]))\n",
      "((0, 2, 1), array([-0.39341436+1.02416771j]), array([ 0.02175051-0.01173141j]))\n",
      "((0, 3, 0), array([-0.30397692-0.11321259j]), array([ 0.00857028+0.00378409j]))\n",
      "((0, 4, 0), array([ 0.15740425-0.37036231j]), array([ 0.00197195+0.014315j]))\n",
      "((1, 0, 0), array([-0.34689258+0.12202657j]), array([ 0.03814163+0.01069344j]))\n",
      "((1, 0, 1), array([-0.97542354+0.09295226j]), array([ 0.03547457-0.00269797j]))\n",
      "((1, 0, 2), array([-1.670592-0.44649771j]), array([ 0.02223416-0.00417885j]))\n",
      "((1, 1, 0), array([-0.55780064-0.25860751j]), array([ 0.03986293-0.00389817j]))\n",
      "((1, 2, 0), array([-0.01788802-0.61682677j]), array([ 0.02915899-0.01089626j]))\n",
      "((2, 0, 0), array([-0.02415313-0.43608059j]), array([ 0.03098025-0.00269797j]))\n",
      "((2, 0, 1), array([ 0.25026062-0.913457j]), array([ 0.02890308-0.0136375j]))\n",
      "((2, 1, 0), array([ 0.44113003-0.42383908j]), array([ 0.03287383-0.01472348j]))\n",
      "((3, 0, 0), array([ 0.52849255+0.03536337j]), array([ 0.01629939-0.00417885j]))\n",
      "((4, 0, 0), array([-0.11493707+0.6144089j]), array([ 0.00616793+0.00465063j]))\n",
      "\n",
      "--- Evaluate wavepacket at some random locations ---\n",
      "\n",
      "--- Done ---\n"
     ]
    },
    {
     "name": "stderr",
     "output_type": "stream",
     "text": [
      "yaml_writer.py:18: ComplexWarning: Casting complex values to real discards the imaginary part\n",
      "  \"q\": q.astype(float).T[0].tolist(),\n",
      "yaml_writer.py:19: ComplexWarning: Casting complex values to real discards the imaginary part\n",
      "  \"p\": p.astype(float).T[0].tolist(),\n"
     ]
    }
   ],
   "source": [
    "import numpy\n",
    "import numpy.random as rand\n",
    "import math\n",
    "\n",
    "from WaveBlocksND import *\n",
    "from sample_wavepacket import *\n",
    "from yaml_writer import *\n",
    "\n",
    "print(\"\")\n",
    "print(\"--- Create sample wavepacket ---\")\n",
    "\n",
    "D = 3\n",
    "shape = LimitedHyperbolicCutShape(D,7.0,(5,5,5))\n",
    "packet = createSampleWavepacket(D, shape)\n",
    "yaml_write_hawp(packet, \"wavepacket\")\n",
    "\n",
    "print(\"\")\n",
    "print(\"--- Evaluate wavepacket at test location ---\")\n",
    "x0 = numpy.zeros((D,1),dtype=complex)\n",
    "for d in range(0,D):\n",
    "    x0[d,0] = (d+1)/float(2*D) + (D-d)/float(2*D)*1.0j\n",
    "print(\"psi: \", packet.slim_recursion(x0,0))\n",
    "print(\"psi (with prefactor): \", packet.slim_recursion(x0,0,True))\n",
    "\n",
    "for index, phi, coeff in zip(list(packet.get_basis_shapes(0).get_node_iterator()), packet.evaluate_basis_at(x0,0), packet.get_coefficients(0)):\n",
    "    print(index, phi, coeff)\n",
    "\n",
    "print(\"\")\n",
    "print(\"--- Evaluate wavepacket at some random locations ---\")\n",
    "rand.seed(0)\n",
    "points = rand.randn(D,20)\n",
    "\n",
    "results = packet.slim_recursion(points,0)[0]\n",
    "\n",
    "import csv\n",
    "with open(\"wavepacket_evaluation.csv\", \"w\") as filehandle:\n",
    "    csvfile = csv.writer(filehandle, delimiter=' ')\n",
    "    for point,result in zip(points.T,results):\n",
    "        csvfile.writerow(tuple(point) + (numpy.real(result),) + (numpy.imag(result),))\n",
    "\n",
    "print(\"\")\n",
    "print(\"--- Done ---\")\n"
   ]
  },
  {
   "cell_type": "code",
   "execution_count": null,
   "metadata": {
    "collapsed": true
   },
   "outputs": [],
   "source": []
  }
 ],
 "metadata": {
  "kernelspec": {
   "display_name": "Python 2",
   "language": "python",
   "name": "python2"
  },
  "language_info": {
   "codemirror_mode": {
    "name": "ipython",
    "version": 2
   },
   "file_extension": ".py",
   "mimetype": "text/x-python",
   "name": "python",
   "nbconvert_exporter": "python",
   "pygments_lexer": "ipython2",
   "version": "2.7.10"
  }
 },
 "nbformat": 4,
 "nbformat_minor": 0
}
