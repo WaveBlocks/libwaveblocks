{
 "cells": [
  {
   "cell_type": "code",
   "execution_count": 3,
   "metadata": {
    "collapsed": false
   },
   "outputs": [
    {
     "name": "stdout",
     "output_type": "stream",
     "text": [
      "COEFFICIENTS\n",
      "\n",
      "PARAMETERS\n",
      "[[ 0.54030231+0.j]\n",
      " [-0.41614684+0.j]\n",
      " [-0.98999250+0.j]\n",
      " [-0.65364362+0.j]]\n",
      "[[ 0.84147098+0.j]\n",
      " [ 0.90929743+0.j]\n",
      " [ 0.14112001+0.j]\n",
      " [-0.75680250+0.j]]\n",
      "[[ 1.25244130+0.16209069j  0.27278923-0.12484405j  0.04233600-0.29699775j\n",
      "  -0.22704075-0.19609309j]\n",
      " [ 0.27278923-0.12484405j  1.04233600-0.29699775j -0.22704075-0.19609309j\n",
      "  -0.28767728+0.08509866j]\n",
      " [ 0.04233600-0.29699775j -0.22704075-0.19609309j  0.71232272+0.08509866j\n",
      "  -0.08382465+0.28805109j]\n",
      " [-0.22704075-0.19609309j -0.28767728+0.08509866j -0.08382465+0.28805109j\n",
      "   1.19709598+0.22617068j]]\n",
      "[[ 0.16209069+1.2524413j  -0.12484405+0.27278923j -0.29699775+0.042336j\n",
      "  -0.19609309-0.22704075j]\n",
      " [-0.12484405+0.27278923j -0.29699775+1.042336j   -0.19609309-0.22704075j\n",
      "   0.08509866-0.28767728j]\n",
      " [-0.29699775+0.042336j   -0.19609309-0.22704075j  0.08509866+0.71232272j\n",
      "   0.28805109-0.08382465j]\n",
      " [-0.19609309-0.22704075j  0.08509866-0.28767728j  0.28805109-0.08382465j\n",
      "   0.22617068+1.19709598j]]\n",
      "\n",
      "GRADIENT\n",
      "file written\n"
     ]
    }
   ],
   "source": [
    "import numpy\n",
    "import math\n",
    "from WaveBlocksND import *\n",
    "\n",
    "D = 4\n",
    "\n",
    "shape = HyperCubicShape((10,10,10,10))\n",
    "\n",
    "packet = HagedornWavepacket(D,1,1.0)\n",
    "\n",
    "#set \"random\" parameters\n",
    "packet._eps = 0.9\n",
    "p = numpy.zeros((D))\n",
    "q = numpy.zeros((D))\n",
    "Q = numpy.eye(D, dtype=complex)\n",
    "P = 1j*numpy.eye(D, dtype=complex)\n",
    "for i in range(0,D):\n",
    "    q[i] = math.cos(i+1)\n",
    "    p[i] = math.sin(i+1)\n",
    "    for j in range(0,D):\n",
    "        Q[i,j] += 0.3*math.sin(i+j+1) + 0.3j*math.cos(i+j+1)\n",
    "        P[i,j] += 0.3*math.cos(i+j+1) + 0.3j*math.sin(i+j+1)\n",
    "packet.set_parameters( (q,p,Q,P), key=(\"q\",\"p\",\"Q\",\"P\"))\n",
    "\n",
    "#set \"random\" coefficients\n",
    "packet.set_basis_shapes((shape),0)\n",
    "for node in shape.get_node_iterator():\n",
    "    falloff = 0.1\n",
    "    packet.set_coefficient(0, node, math.exp(-falloff*sum(node))+1j*math.exp(-falloff*sum(node)))\n",
    "\n",
    "print \"COEFFICIENTS\"\n",
    "#for node,coeff in zip(shape.get_node_iterator(),packet.get_coefficients()[0]):\n",
    "    #print \"   \",node,coeff[0]\n",
    "\n",
    "print\n",
    "print \"PARAMETERS\"\n",
    "print packet.get_parameters()[0]\n",
    "print packet.get_parameters()[1]\n",
    "print packet.get_parameters()[2]\n",
    "print packet.get_parameters()[3]\n",
    "\n",
    "print\n",
    "print \"GRADIENT\"\n",
    "nabla = packet.get_gradient_operator()\n",
    "shape_ext,gradient = nabla.apply_gradient_component(packet,0)\n",
    "#for node,value in zip(shape_ext.get_node_iterator(),gradient):\n",
    "#    print \"   \",node,value\n",
    "\n",
    "import csv\n",
    "with open(\"gradient.csv\", \"w\") as filex:\n",
    "    csvfile = csv.writer(filex, delimiter=' ')\n",
    "    for node,entry in zip(list(shape_ext.get_node_iterator()),gradient):\n",
    "        csvfile.writerow(node + tuple(numpy.real(entry)) + tuple(numpy.imag(entry)))\n",
    "print \"file written\""
   ]
  },
  {
   "cell_type": "code",
   "execution_count": null,
   "metadata": {
    "collapsed": true
   },
   "outputs": [],
   "source": []
  }
 ],
 "metadata": {
  "kernelspec": {
   "display_name": "Python 2",
   "language": "python",
   "name": "python2"
  },
  "language_info": {
   "codemirror_mode": {
    "name": "ipython",
    "version": 2
   },
   "file_extension": ".py",
   "mimetype": "text/x-python",
   "name": "python",
   "nbconvert_exporter": "python",
   "pygments_lexer": "ipython2",
   "version": "2.7.9"
  }
 },
 "nbformat": 4,
 "nbformat_minor": 0
}
