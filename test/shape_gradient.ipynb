{
 "cells": [
  {
   "cell_type": "code",
   "execution_count": 5,
   "metadata": {
    "collapsed": false
   },
   "outputs": [
    {
     "name": "stdout",
     "output_type": "stream",
     "text": [
      "COEFFICIENTS\n",
      "\n",
      "PARAMETERS\n",
      "    [array([[ 0.+0.j],\n",
      "       [ 0.+0.j],\n",
      "       [ 0.+0.j],\n",
      "       [ 0.+0.j]]), array([[ 0.+0.j],\n",
      "       [ 0.+0.j],\n",
      "       [ 0.+0.j],\n",
      "       [ 0.+0.j]]), array([[ 1.+0.j,  0.+0.j,  0.+0.j,  0.+0.j],\n",
      "       [ 0.+0.j,  1.+0.j,  0.+0.j,  0.+0.j],\n",
      "       [ 0.+0.j,  0.+0.j,  1.+0.j,  0.+0.j],\n",
      "       [ 0.+0.j,  0.+0.j,  0.+0.j,  1.+0.j]]), array([[ 0.+1.j,  0.+0.j,  0.+0.j,  0.+0.j],\n",
      "       [ 0.+0.j,  0.+1.j,  0.+0.j,  0.+0.j],\n",
      "       [ 0.+0.j,  0.+0.j,  0.+1.j,  0.+0.j],\n",
      "       [ 0.+0.j,  0.+0.j,  0.+0.j,  0.+1.j]]), array([[ 0.+0.j]])]\n",
      "\n",
      "GRADIENT\n",
      "file written\n"
     ]
    }
   ],
   "source": [
    "import numpy\n",
    "import math\n",
    "from WaveBlocksND import *\n",
    "\n",
    "D = 4\n",
    "\n",
    "shape = HyperCubicShape((10,10,10,10))\n",
    "\n",
    "packet = HagedornWavepacket(D,1,1.0)\n",
    "packet._eps = 1.0\n",
    "packet.set_basis_shapes((shape),0)\n",
    "for node in shape.get_node_iterator():\n",
    "    falloff = 0.1\n",
    "    packet.set_coefficient(0, node, math.exp(-falloff*sum(node))+1j*math.exp(-falloff*sum(node)))\n",
    "\n",
    "print \"COEFFICIENTS\"\n",
    "#for node,coeff in zip(shape.get_node_iterator(),packet.get_coefficients()[0]):\n",
    "    #print \"   \",node,coeff[0]\n",
    "\n",
    "print\n",
    "print \"PARAMETERS\"\n",
    "print \"   \",packet.get_parameters()\n",
    "\n",
    "print\n",
    "print \"GRADIENT\"\n",
    "nabla = packet.get_gradient_operator()\n",
    "shape_ext,gradient = nabla.apply_gradient_component(packet,0)\n",
    "#for node,value in zip(shape_ext.get_node_iterator(),gradient):\n",
    "#    print \"   \",node,value\n",
    "\n",
    "import csv\n",
    "with open(\"gradient.csv\", \"w\") as filex:\n",
    "    csvfile = csv.writer(filex, delimiter=' ')\n",
    "    for node,entry in zip(list(shape_ext.get_node_iterator()),gradient):\n",
    "        csvfile.writerow(node + tuple(numpy.real(entry)) + tuple(numpy.imag(entry)))\n",
    "print \"file written\""
   ]
  },
  {
   "cell_type": "code",
   "execution_count": null,
   "metadata": {
    "collapsed": true
   },
   "outputs": [],
   "source": []
  }
 ],
 "metadata": {
  "kernelspec": {
   "display_name": "Python 2",
   "language": "python",
   "name": "python2"
  },
  "language_info": {
   "codemirror_mode": {
    "name": "ipython",
    "version": 2
   },
   "file_extension": ".py",
   "mimetype": "text/x-python",
   "name": "python",
   "nbconvert_exporter": "python",
   "pygments_lexer": "ipython2",
   "version": "2.7.9"
  }
 },
 "nbformat": 4,
 "nbformat_minor": 0
}
